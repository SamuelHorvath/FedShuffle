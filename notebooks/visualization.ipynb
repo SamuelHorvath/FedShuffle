{
 "cells": [
  {
   "cell_type": "code",
   "execution_count": 2,
   "source": [
    "import sys\n",
    "sys.path.insert(0, \"../fl\")"
   ],
   "outputs": [],
   "metadata": {}
  },
  {
   "cell_type": "code",
   "execution_count": 3,
   "source": [
    "%matplotlib inline\n",
    "\n",
    "from utils.plotting import plot"
   ],
   "outputs": [],
   "metadata": {}
  },
  {
   "cell_type": "code",
   "execution_count": 4,
   "source": [
    "class NameSpace(object):\n",
    "    def __init__(self, adict):\n",
    "        self.__dict__.update(adict)"
   ],
   "outputs": [],
   "metadata": {}
  },
  {
   "cell_type": "code",
   "execution_count": 5,
   "source": [
    "def get_exps():\n",
    "    exps = []\n",
    "    for fl_algorithm, sum_one, ug, c_g, run_id in zip(fl_algorithm_s, sum_one_s, ug_s, c_g_s, run_id_s):\n",
    "        exp = {\n",
    "            'model': model,\n",
    "            'dataset': dataset, \n",
    "            'run_id': run_id,\n",
    "            'train_metric': train_metric,\n",
    "            'metric': metric,\n",
    "            'checkpoint_dir': checkpoint_dir,\n",
    "            'sum_one': sum_one,\n",
    "            'unbiased_grad': ug,\n",
    "            'clip_grad': c_g,\n",
    "            'fl_algorithm': fl_algorithm,\n",
    "        }\n",
    "        exp = NameSpace(exp)\n",
    "        exps.append(exp)\n",
    "    return exps"
   ],
   "outputs": [],
   "metadata": {}
  },
  {
   "cell_type": "code",
   "execution_count": null,
   "source": [],
   "outputs": [],
   "metadata": {}
  },
  {
   "cell_type": "code",
   "execution_count": 81,
   "source": [
    "model = 'resnet18'\n",
    "dataset = 'cifar10_fl'\n",
    "run_id = \"nn\"\n",
    "train_metric = False\n",
    "metric = 'loss'\n",
    "kind = 'test_loss'\n",
    "\n",
    "checkpoint_dir = '../check_points'\n",
    "\n",
    "run_id_s = [\"nn_is\", \"nn_is\", \"nn_is\", \"nn_is\"]\n",
    "sum_one_s = [True, True, False, False]\n",
    "ug_s = [False, False, False, False]\n",
    "c_g_s = [False, False, False, True]\n",
    "\n",
    "fl_algorithm_s = ['fedavg', 'fednova', 'fedshuffle', 'fedshuffle']\n",
    "\n",
    "legend = ['FedAvg', 'FedNova', 'FedShuffle']\n",
    "\n",
    "exps = get_exps()"
   ],
   "outputs": [],
   "metadata": {}
  },
  {
   "cell_type": "code",
   "execution_count": 71,
   "source": [
    "model = 'resnet18'\n",
    "dataset = 'cifar100_fl'\n",
    "run_id = \"nn\"\n",
    "train_metric = False\n",
    "metric = 'top_1_acc'\n",
    "kind = 'test_top_1_acc' \n",
    "# kind = 'train_loss'\n",
    "\n",
    "checkpoint_dir = '../check_points'\n",
    "\n",
    "run_id_s = [\"nn_mom\", \"nn_k_mean_mom\", \"nn_mom\", \"nn_mom\", \"nn_k_mom\", \"nn_mom\"]\n",
    "sum_one_s = [False, True, True, True, True, True]\n",
    "ug_s = [False, False, False, False, False, False]\n",
    "c_g_s = [False, False, False, False, False, True]\n",
    "\n",
    "fl_algorithm_s = ['fedshuffle', 'fedavg', 'fedavg', 'fednova', 'fedavg']\n",
    "\n",
    "legend = ['FedAvgMin', 'FedAvgMean', 'FedAvg', 'FedNova', 'FedShuffle']\n",
    "\n",
    "exps = get_exps()"
   ],
   "outputs": [],
   "metadata": {}
  },
  {
   "cell_type": "code",
   "execution_count": 90,
   "source": [
    "model = 'resnet18'\n",
    "dataset = 'cifar100_fl'\n",
    "run_id = \"nn\"\n",
    "train_metric = False\n",
    "metric = 'loss'\n",
    "kind = 'test_loss'\n",
    "\n",
    "checkpoint_dir = '../check_points'\n",
    "\n",
    "run_id_s = [\"nn_train_k_mom\", \"nn_train_k_mean_mom\", \"nn_train_mom\", \"nn_train_mom\", \"nn_train_mom\", \"nn_train_mom\"]\n",
    "sum_one_s = [True, True, True, True, False, True]\n",
    "ug_s = [False, False, False, False, False, False]\n",
    "c_g_s = [False, False, False, False, False, True]\n",
    "\n",
    "fl_algorithm_s = ['fedavg', 'fedavg', 'fedavg', 'fednova', 'fedshuffle']\n",
    "\n",
    "legend = ['FedAvgMin', 'FedAvgMean', 'FedAvg', 'FedNova', 'FedShuffle']\n",
    "\n",
    "exps = get_exps()"
   ],
   "outputs": [],
   "metadata": {}
  },
  {
   "cell_type": "code",
   "execution_count": 1,
   "source": [
    "model = 'resnet18'\n",
    "dataset = 'cifar100_fl'\n",
    "run_id = \"nn\"\n",
    "train_metric = False\n",
    "metric = 'top_1_acc'\n",
    "kind = 'test_top_1_acc' \n",
    "# kind = 'train_loss'\n",
    "\n",
    "checkpoint_dir = '../check_points'\n",
    "\n",
    "run_id_s = [\"nn_k\", \"nn_k_mean\", \"nn\", \"nn\", \"nn\", \"nn\"]\n",
    "sum_one_s = [True, True, True, True, False, False]\n",
    "ug_s = [False, False, False, False, False, False]\n",
    "c_g_s = [False, False, False, False, False, False]\n",
    "\n",
    "fl_algorithm_s = ['fedavg', 'fedavg', 'fedavg', 'fednova', 'fedshuffle']\n",
    "\n",
    "legend = ['FedAvgMin', 'FedAvgMean', 'FedAvg', 'FedNova', 'FedShuffle']\n",
    "\n",
    "exps = get_exps()"
   ],
   "outputs": [
    {
     "output_type": "error",
     "ename": "NameError",
     "evalue": "name 'get_exps' is not defined",
     "traceback": [
      "\u001b[0;31m---------------------------------------------------------------------------\u001b[0m",
      "\u001b[0;31mNameError\u001b[0m                                 Traceback (most recent call last)",
      "\u001b[0;32m/tmp/ipykernel_2438001/2840343062.py\u001b[0m in \u001b[0;36m<module>\u001b[0;34m\u001b[0m\n\u001b[1;32m     18\u001b[0m \u001b[0mlegend\u001b[0m \u001b[0;34m=\u001b[0m \u001b[0;34m[\u001b[0m\u001b[0;34m'FedAvgMin'\u001b[0m\u001b[0;34m,\u001b[0m \u001b[0;34m'FedAvgMean'\u001b[0m\u001b[0;34m,\u001b[0m \u001b[0;34m'FedAvg'\u001b[0m\u001b[0;34m,\u001b[0m \u001b[0;34m'FedNova'\u001b[0m\u001b[0;34m,\u001b[0m \u001b[0;34m'FedShuffle'\u001b[0m\u001b[0;34m]\u001b[0m\u001b[0;34m\u001b[0m\u001b[0;34m\u001b[0m\u001b[0m\n\u001b[1;32m     19\u001b[0m \u001b[0;34m\u001b[0m\u001b[0m\n\u001b[0;32m---> 20\u001b[0;31m \u001b[0mexps\u001b[0m \u001b[0;34m=\u001b[0m \u001b[0mget_exps\u001b[0m\u001b[0;34m(\u001b[0m\u001b[0;34m)\u001b[0m\u001b[0;34m\u001b[0m\u001b[0;34m\u001b[0m\u001b[0m\n\u001b[0m",
      "\u001b[0;31mNameError\u001b[0m: name 'get_exps' is not defined"
     ]
    }
   ],
   "metadata": {}
  },
  {
   "cell_type": "code",
   "execution_count": 99,
   "source": [
    "model = 'resnet18'\n",
    "dataset = 'cifar100_fl'\n",
    "run_id = \"nn\"\n",
    "train_metric = False\n",
    "metric = 'loss'\n",
    "kind = 'test_loss' \n",
    "# kind = 'train_loss'\n",
    "\n",
    "checkpoint_dir = '../check_points'\n",
    "\n",
    "run_id_s = [\"nn_train_k\", \"nn_train_k_mean\", \"nn_train\", \"nn_train\", \"nn_train\", \"nn_train\"]\n",
    "sum_one_s = [True, True, True, True, False, False]\n",
    "ug_s = [False, False, False, False, False, False]\n",
    "c_g_s = [False, False, False, False, False, False]\n",
    "\n",
    "fl_algorithm_s = ['fedavg', 'fedavg', 'fedavg', 'fednova', 'fedshuffle']\n",
    "\n",
    "legend = ['FedAvgMin', 'FedAvgMean', 'FedAvg', 'FedNova', 'FedShuffle']\n",
    "\n",
    "exps = get_exps()"
   ],
   "outputs": [],
   "metadata": {}
  },
  {
   "cell_type": "code",
   "execution_count": null,
   "source": [],
   "outputs": [],
   "metadata": {}
  },
  {
   "cell_type": "code",
   "execution_count": 103,
   "source": [
    "model = 'rnn'\n",
    "dataset = 'shakespeare'\n",
    "run_id = \"nn\"\n",
    "train_metric = False\n",
    "metric = 'top_1_acc'\n",
    "kind = 'test_top_1_acc'\n",
    "# kind = 'train_loss'\n",
    "\n",
    "checkpoint_dir = \"../check_points\"\n",
    "# checkpoint_dir = '../check_points_to_use/check_points_exp'\n",
    "\n",
    "run_id_s = [\"nn_k\", \"nn_k_mean\", \"nn\", \"nn\", \"nn\", \"nn\"]\n",
    "sum_one_s = [True, True, True, True, False, True]\n",
    "ug_s = [False, False, False, False, False, False]\n",
    "c_g_s = [False, False, False, False, False, False]\n",
    "\n",
    "fl_algorithm_s = ['fedavg', 'fedavg', 'fedavg', 'fednova', 'fedshuffle']\n",
    "\n",
    "legend = ['FedAvgMin', 'FedAvgMean', 'FedAvg', 'FedNova', 'FedShuffle']\n",
    "exps = get_exps()"
   ],
   "outputs": [],
   "metadata": {}
  },
  {
   "cell_type": "code",
   "execution_count": 105,
   "source": [
    "model = 'rnn'\n",
    "dataset = 'shakespeare'\n",
    "run_id = \"nn\"\n",
    "train_metric = False\n",
    "metric = 'loss'\n",
    "kind = 'test_loss'\n",
    "# kind = 'train_loss'\n",
    "\n",
    "checkpoint_dir = \"../check_points\"\n",
    "# checkpoint_dir = '../check_points_to_use/check_points_exp'\n",
    "\n",
    "run_id_s = [\"nn_train_k\", \"nn_train_k_mean\", \"nn_train\", \"nn_train\", \"nn_train\", \"nn_train\"]\n",
    "sum_one_s = [True, True, True, True, False, True]\n",
    "ug_s = [False, False, False, False, False, False]\n",
    "c_g_s = [False, False, False, False, False, False]\n",
    "\n",
    "fl_algorithm_s = ['fedavg', 'fedavg', 'fedavg', 'fednova', 'fedshuffle']\n",
    "\n",
    "legend = ['FedAvgMin', 'FedAvgMean', 'FedAvg', 'FedNova', 'FedShuffle']\n",
    "exps = get_exps()"
   ],
   "outputs": [],
   "metadata": {}
  },
  {
   "cell_type": "code",
   "execution_count": 51,
   "source": [
    "model = 'rnn'\n",
    "dataset = 'shakespeare'\n",
    "run_id = \"nn\"\n",
    "train_metric = False\n",
    "metric = 'top_1_acc'\n",
    "kind = 'test_top_1_acc'\n",
    "# kind = 'train_loss'\n",
    "\n",
    "checkpoint_dir = \"../check_points\"\n",
    "# checkpoint_dir = '../check_points_to_use/check_points_is_mom'\n",
    "\n",
    "run_id_s = [\"nn_k_mom\", \"nn_k_mean_mom\", \"nn_mom\", \"nn_mom\", \"nn_mom\", \"nn_mom\"]\n",
    "sum_one_s = [True, True, True, True, False, True]\n",
    "ug_s = [False, False, False, False, False, False]\n",
    "c_g_s = [False, False, False, False, False, False]\n",
    "\n",
    "fl_algorithm_s = ['fedavg','fedavg', 'fedavg', 'fednova', 'fedshuffle']\n",
    "\n",
    "legend = [\"FedAvgMin\", 'FedAvgMean', 'FedAvg', 'FedNova', 'FedShuffle']\n",
    "\n",
    "exps = get_exps()"
   ],
   "outputs": [],
   "metadata": {}
  },
  {
   "cell_type": "code",
   "execution_count": 53,
   "source": [
    "model = 'rnn'\n",
    "dataset = 'shakespeare'\n",
    "run_id = \"nn\"\n",
    "train_metric = False\n",
    "metric = 'top_1_acc'\n",
    "kind = 'test_top_1_acc'\n",
    "# kind = 'train_loss'\n",
    "\n",
    "checkpoint_dir = \"../check_points\"\n",
    "# checkpoint_dir = '../check_points_to_use/check_points_is_mom'\n",
    "\n",
    "run_id_s = [\"nn_k_is\", \"nn_k_mean_is\", \"nn_is\", \"nn_is\", \"nn_is\", \"nn_is\"]\n",
    "sum_one_s = [True, True, True, True, False, True]\n",
    "ug_s = [False, False, False, False, False, False]\n",
    "c_g_s = [False, False, False, False, False, False]\n",
    "\n",
    "fl_algorithm_s = ['fedavg', 'fedavg', 'fedavg', 'fednova', 'fedshuffle']\n",
    "\n",
    "legend = ['FedAvgMin', 'FedAvgMean', 'FedAvg', 'FedNova', 'FedShuffle']\n",
    "\n",
    "exps = get_exps()"
   ],
   "outputs": [],
   "metadata": {}
  },
  {
   "cell_type": "code",
   "execution_count": 44,
   "source": [
    "model = 'femnist'\n",
    "dataset = 'femnist'\n",
    "run_id = \"nn\"\n",
    "train_metric = False\n",
    "metric = 'top_1_acc'\n",
    "kind = 'test_top_1_acc'\n",
    "# kind = 'train_loss'\n",
    "\n",
    "checkpoint_dir = '../check_points'\n",
    "# checkpoint_dir = '../check_points_to_use/check_points_clip_grad'\n",
    "\n",
    "run_id_s = [\"nn\", \"nn\", \"nn\", \"nn\", \"nn\", \"nn\"]\n",
    "sum_one_s = [True, True, False, False, True, True]\n",
    "ug_s = [False, False, False, False, False, False]\n",
    "c_g_s = [False, False, True, False, False, True]\n",
    "\n",
    "fl_algorithm_s = ['fedavg', 'fednova', 'fedshuffle']\n",
    "\n",
    "legend = ['FedAvg', 'FedNova', 'FedShuffle']\n",
    "\n",
    "exps = get_exps()"
   ],
   "outputs": [],
   "metadata": {}
  },
  {
   "cell_type": "code",
   "execution_count": 33,
   "source": [
    "model = 'femnist'\n",
    "dataset = 'femnist'\n",
    "run_id = \"nn\"\n",
    "train_metric = False\n",
    "metric = 'top_1_acc'\n",
    "kind = 'test_top_1_acc'\n",
    "# kind = 'train_loss'\n",
    "\n",
    "checkpoint_dir = '../check_points'\n",
    "# checkpoint_dir = '../check_points_to_use/check_points_is_mom'\n",
    "\n",
    "run_id_s = [\"nn_mom\", \"nn_mom\", \"nn_mom\", \"nn_mom\", \"nn_mom\", \"nn_mom\"]\n",
    "sum_one_s = [True, True, False, False, True, True]\n",
    "ug_s = [False, False, False, False, False, False]\n",
    "c_g_s = [False, False, True, False, False, True]\n",
    "\n",
    "fl_algorithm_s = ['fedavg', 'fednova', 'fedshuffle']\n",
    "\n",
    "legend = ['FedAvg', 'FedNova', 'FedShuffle']\n",
    "\n",
    "exps = get_exps()"
   ],
   "outputs": [],
   "metadata": {}
  },
  {
   "cell_type": "code",
   "execution_count": 34,
   "source": [
    "model = 'femnist'\n",
    "dataset = 'femnist'\n",
    "run_id = \"nn\"\n",
    "train_metric = False\n",
    "metric = 'top_1_acc'\n",
    "kind = 'test_top_1_acc'\n",
    "# kind = 'train_loss'\n",
    "\n",
    "checkpoint_dir = '../check_points'\n",
    "# checkpoint_dir = '../check_points_to_use/check_points_is_mom'\n",
    "\n",
    "run_id_s = [\"nn_is\", \"nn_is\", \"nn_is\", \"nn_is\", \"nn_is\", \"nn_is\"]\n",
    "sum_one_s = [True, True, False, False, True, True]\n",
    "ug_s = [False, False, False, False, False, False]\n",
    "c_g_s = [False, False, True, False, False, True]\n",
    "\n",
    "fl_algorithm_s = ['fedavg', 'fednova', 'fedshuffle']\n",
    "\n",
    "legend = ['FedAvg', 'FedNova', 'FedShuffle']\n",
    "\n",
    "exps = get_exps()"
   ],
   "outputs": [],
   "metadata": {}
  },
  {
   "cell_type": "code",
   "execution_count": null,
   "source": [],
   "outputs": [],
   "metadata": {}
  },
  {
   "cell_type": "code",
   "execution_count": 106,
   "source": [
    "plot(\n",
    "    exps, kind,\n",
    "    log_scale=False, legend=legend,\n",
    "    # file='shakespeare_is_acc',\n",
    "    x_label='communication rounds', y_label='train loss',  # accuracy\n",
    "    # zoom=True,\n",
    "    # bounds=(800, 1020, 47, 53), position=[0.73, 0.57, 0.25, 0.25])\n",
    "    bounds=(800, 1020, 62, 66), position=[0.65, 0.58, 0.25, 0.25])"
   ],
   "outputs": [
    {
     "output_type": "error",
     "ename": "ValueError",
     "evalue": "All-NaN slice encountered",
     "traceback": [
      "\u001b[0;31m---------------------------------------------------------------------------\u001b[0m",
      "\u001b[0;31mValueError\u001b[0m                                Traceback (most recent call last)",
      "\u001b[0;32m/tmp/ipykernel_2418037/3374845927.py\u001b[0m in \u001b[0;36m<module>\u001b[0;34m\u001b[0m\n\u001b[0;32m----> 1\u001b[0;31m plot(\n\u001b[0m\u001b[1;32m      2\u001b[0m     \u001b[0mexps\u001b[0m\u001b[0;34m,\u001b[0m \u001b[0mkind\u001b[0m\u001b[0;34m,\u001b[0m\u001b[0;34m\u001b[0m\u001b[0;34m\u001b[0m\u001b[0m\n\u001b[1;32m      3\u001b[0m     \u001b[0mlog_scale\u001b[0m\u001b[0;34m=\u001b[0m\u001b[0;32mFalse\u001b[0m\u001b[0;34m,\u001b[0m \u001b[0mlegend\u001b[0m\u001b[0;34m=\u001b[0m\u001b[0mlegend\u001b[0m\u001b[0;34m,\u001b[0m\u001b[0;34m\u001b[0m\u001b[0;34m\u001b[0m\u001b[0m\n\u001b[1;32m      4\u001b[0m     \u001b[0;31m# file='shakespeare_is_acc',\u001b[0m\u001b[0;34m\u001b[0m\u001b[0;34m\u001b[0m\u001b[0m\n\u001b[1;32m      5\u001b[0m     \u001b[0mx_label\u001b[0m\u001b[0;34m=\u001b[0m\u001b[0;34m'communication rounds'\u001b[0m\u001b[0;34m,\u001b[0m \u001b[0my_label\u001b[0m\u001b[0;34m=\u001b[0m\u001b[0;34m'train loss'\u001b[0m\u001b[0;34m,\u001b[0m  \u001b[0;31m# accuracy\u001b[0m\u001b[0;34m\u001b[0m\u001b[0;34m\u001b[0m\u001b[0m\n",
      "\u001b[0;32m~/fedshuffle/notebooks/../fl/utils/plotting.py\u001b[0m in \u001b[0;36mplot\u001b[0;34m(exps, kind, log_scale, legend, file, x_label, y_label, last, zoom, bounds, position)\u001b[0m\n\u001b[1;32m     36\u001b[0m \u001b[0;34m\u001b[0m\u001b[0m\n\u001b[1;32m     37\u001b[0m     \u001b[0;32mfor\u001b[0m \u001b[0mi\u001b[0m\u001b[0;34m,\u001b[0m \u001b[0mexp\u001b[0m \u001b[0;32min\u001b[0m \u001b[0menumerate\u001b[0m\u001b[0;34m(\u001b[0m\u001b[0mexps\u001b[0m\u001b[0;34m)\u001b[0m\u001b[0;34m:\u001b[0m\u001b[0;34m\u001b[0m\u001b[0;34m\u001b[0m\u001b[0m\n\u001b[0;32m---> 38\u001b[0;31m         \u001b[0mruns\u001b[0m \u001b[0;34m=\u001b[0m \u001b[0mget_best_runs\u001b[0m\u001b[0;34m(\u001b[0m\u001b[0mexp\u001b[0m\u001b[0;34m,\u001b[0m \u001b[0mlast\u001b[0m\u001b[0;34m=\u001b[0m\u001b[0mlast\u001b[0m\u001b[0;34m)\u001b[0m\u001b[0;34m\u001b[0m\u001b[0;34m\u001b[0m\u001b[0m\n\u001b[0m\u001b[1;32m     39\u001b[0m         \u001b[0mplot_mean_std\u001b[0m\u001b[0;34m(\u001b[0m\u001b[0max\u001b[0m\u001b[0;34m,\u001b[0m \u001b[0maxins\u001b[0m\u001b[0;34m,\u001b[0m \u001b[0mruns\u001b[0m\u001b[0;34m,\u001b[0m \u001b[0mkind\u001b[0m\u001b[0;34m,\u001b[0m \u001b[0mi\u001b[0m\u001b[0;34m)\u001b[0m\u001b[0;34m\u001b[0m\u001b[0;34m\u001b[0m\u001b[0m\n\u001b[1;32m     40\u001b[0m \u001b[0;34m\u001b[0m\u001b[0m\n",
      "\u001b[0;32m~/fedshuffle/notebooks/../fl/utils/utils.py\u001b[0m in \u001b[0;36mget_best_runs\u001b[0;34m(args_exp, last)\u001b[0m\n\u001b[1;32m    162\u001b[0m \u001b[0;32mdef\u001b[0m \u001b[0mget_best_runs\u001b[0m\u001b[0;34m(\u001b[0m\u001b[0margs_exp\u001b[0m\u001b[0;34m,\u001b[0m \u001b[0mlast\u001b[0m\u001b[0;34m=\u001b[0m\u001b[0;32mTrue\u001b[0m\u001b[0;34m)\u001b[0m\u001b[0;34m:\u001b[0m\u001b[0;34m\u001b[0m\u001b[0;34m\u001b[0m\u001b[0m\n\u001b[1;32m    163\u001b[0m     \u001b[0mmodel_dir_no_lr\u001b[0m \u001b[0;34m=\u001b[0m \u001b[0mcreate_model_dir\u001b[0m\u001b[0;34m(\u001b[0m\u001b[0margs_exp\u001b[0m\u001b[0;34m,\u001b[0m \u001b[0mlr\u001b[0m\u001b[0;34m=\u001b[0m\u001b[0;32mFalse\u001b[0m\u001b[0;34m)\u001b[0m\u001b[0;34m\u001b[0m\u001b[0;34m\u001b[0m\u001b[0m\n\u001b[0;32m--> 164\u001b[0;31m     \u001b[0mbest_lr\u001b[0m\u001b[0;34m,\u001b[0m \u001b[0m_\u001b[0m\u001b[0;34m,\u001b[0m \u001b[0m_\u001b[0m \u001b[0;34m=\u001b[0m \u001b[0mget_best_lr_and_metric\u001b[0m\u001b[0;34m(\u001b[0m\u001b[0margs_exp\u001b[0m\u001b[0;34m,\u001b[0m \u001b[0mlast\u001b[0m\u001b[0;34m=\u001b[0m\u001b[0mlast\u001b[0m\u001b[0;34m)\u001b[0m\u001b[0;34m\u001b[0m\u001b[0;34m\u001b[0m\u001b[0m\n\u001b[0m\u001b[1;32m    165\u001b[0m     \u001b[0mmodel_dir_lr\u001b[0m \u001b[0;34m=\u001b[0m \u001b[0mos\u001b[0m\u001b[0;34m.\u001b[0m\u001b[0mpath\u001b[0m\u001b[0;34m.\u001b[0m\u001b[0mjoin\u001b[0m\u001b[0;34m(\u001b[0m\u001b[0mmodel_dir_no_lr\u001b[0m\u001b[0;34m,\u001b[0m \u001b[0mbest_lr\u001b[0m\u001b[0;34m)\u001b[0m\u001b[0;34m\u001b[0m\u001b[0;34m\u001b[0m\u001b[0m\n\u001b[1;32m    166\u001b[0m     \u001b[0mjson_dir\u001b[0m \u001b[0;34m=\u001b[0m \u001b[0;34m'full_metrics.json'\u001b[0m\u001b[0;34m\u001b[0m\u001b[0;34m\u001b[0m\u001b[0m\n",
      "\u001b[0;32m~/fedshuffle/notebooks/../fl/utils/utils.py\u001b[0m in \u001b[0;36mget_best_lr_and_metric\u001b[0;34m(args, last)\u001b[0m\n\u001b[1;32m    154\u001b[0m             \u001b[0mruns_metric\u001b[0m\u001b[0;34m.\u001b[0m\u001b[0mappend\u001b[0m\u001b[0;34m(\u001b[0m\u001b[0mnp\u001b[0m\u001b[0;34m.\u001b[0m\u001b[0mmean\u001b[0m\u001b[0;34m(\u001b[0m\u001b[0mlr_metric\u001b[0m\u001b[0;34m)\u001b[0m\u001b[0;34m)\u001b[0m\u001b[0;34m\u001b[0m\u001b[0;34m\u001b[0m\u001b[0m\n\u001b[1;32m    155\u001b[0m \u001b[0;34m\u001b[0m\u001b[0m\n\u001b[0;32m--> 156\u001b[0;31m     \u001b[0mi_best_lr\u001b[0m \u001b[0;34m=\u001b[0m \u001b[0mbest_arg\u001b[0m\u001b[0;34m(\u001b[0m\u001b[0mruns_metric\u001b[0m\u001b[0;34m)\u001b[0m\u001b[0;34m\u001b[0m\u001b[0;34m\u001b[0m\u001b[0m\n\u001b[0m\u001b[1;32m    157\u001b[0m     \u001b[0mbest_metric\u001b[0m \u001b[0;34m=\u001b[0m \u001b[0mruns_metric\u001b[0m\u001b[0;34m[\u001b[0m\u001b[0mi_best_lr\u001b[0m\u001b[0;34m]\u001b[0m\u001b[0;34m\u001b[0m\u001b[0;34m\u001b[0m\u001b[0m\n\u001b[1;32m    158\u001b[0m     \u001b[0mbest_lr\u001b[0m \u001b[0;34m=\u001b[0m \u001b[0mlr_dirs\u001b[0m\u001b[0;34m[\u001b[0m\u001b[0mi_best_lr\u001b[0m\u001b[0;34m]\u001b[0m\u001b[0;34m\u001b[0m\u001b[0;34m\u001b[0m\u001b[0m\n",
      "\u001b[0;32m<__array_function__ internals>\u001b[0m in \u001b[0;36mnanargmin\u001b[0;34m(*args, **kwargs)\u001b[0m\n",
      "\u001b[0;32m~/.conda/envs/fl/lib/python3.9/site-packages/numpy/lib/nanfunctions.py\u001b[0m in \u001b[0;36mnanargmin\u001b[0;34m(a, axis)\u001b[0m\n\u001b[1;32m    497\u001b[0m         \u001b[0mmask\u001b[0m \u001b[0;34m=\u001b[0m \u001b[0mnp\u001b[0m\u001b[0;34m.\u001b[0m\u001b[0mall\u001b[0m\u001b[0;34m(\u001b[0m\u001b[0mmask\u001b[0m\u001b[0;34m,\u001b[0m \u001b[0maxis\u001b[0m\u001b[0;34m=\u001b[0m\u001b[0maxis\u001b[0m\u001b[0;34m)\u001b[0m\u001b[0;34m\u001b[0m\u001b[0;34m\u001b[0m\u001b[0m\n\u001b[1;32m    498\u001b[0m         \u001b[0;32mif\u001b[0m \u001b[0mnp\u001b[0m\u001b[0;34m.\u001b[0m\u001b[0many\u001b[0m\u001b[0;34m(\u001b[0m\u001b[0mmask\u001b[0m\u001b[0;34m)\u001b[0m\u001b[0;34m:\u001b[0m\u001b[0;34m\u001b[0m\u001b[0;34m\u001b[0m\u001b[0m\n\u001b[0;32m--> 499\u001b[0;31m             \u001b[0;32mraise\u001b[0m \u001b[0mValueError\u001b[0m\u001b[0;34m(\u001b[0m\u001b[0;34m\"All-NaN slice encountered\"\u001b[0m\u001b[0;34m)\u001b[0m\u001b[0;34m\u001b[0m\u001b[0;34m\u001b[0m\u001b[0m\n\u001b[0m\u001b[1;32m    500\u001b[0m     \u001b[0;32mreturn\u001b[0m \u001b[0mres\u001b[0m\u001b[0;34m\u001b[0m\u001b[0;34m\u001b[0m\u001b[0m\n\u001b[1;32m    501\u001b[0m \u001b[0;34m\u001b[0m\u001b[0m\n",
      "\u001b[0;31mValueError\u001b[0m: All-NaN slice encountered"
     ]
    },
    {
     "output_type": "display_data",
     "data": {
      "image/png": "[encoded data removed]",
      "text/plain": [
       "<Figure size 576x432 with 1 Axes>"
      ]
     },
     "metadata": {}
    }
   ],
   "metadata": {}
  },
  {
   "cell_type": "code",
   "execution_count": null,
   "source": [],
   "outputs": [],
   "metadata": {}
  },
  {
   "cell_type": "code",
   "execution_count": null,
   "source": [],
   "outputs": [],
   "metadata": {}
  }
 ],
 "metadata": {
  "orig_nbformat": 4,
  "language_info": {
   "name": "python",
   "version": "3.9.7",
   "mimetype": "text/x-python",
   "codemirror_mode": {
    "name": "ipython",
    "version": 3
   },
   "pygments_lexer": "ipython3",
   "nbconvert_exporter": "python",
   "file_extension": ".py"
  },
  "kernelspec": {
   "name": "python3",
   "display_name": "Python 3.9.7 64-bit ('fl': conda)"
  },
  "interpreter": {
   "hash": "30004739fac8086ad444424a2092e8925290664c5b506381adcff8440e44f584"
  }
 },
 "nbformat": 4,
 "nbformat_minor": 2
}