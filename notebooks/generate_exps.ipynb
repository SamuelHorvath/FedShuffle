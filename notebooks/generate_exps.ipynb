{
 "cells": [
  {
   "cell_type": "markdown",
   "source": [
    "## Synthetic Experiments"
   ],
   "metadata": {}
  },
  {
   "cell_type": "markdown",
   "source": [
    "### Partial participation"
   ],
   "metadata": {}
  },
  {
   "cell_type": "code",
   "execution_count": 8,
   "source": [
    "algorithm_s = ['fedavg  --sum-one', 'fednova  --sum-one', 'fedshuffle  --sum-one', 'fedshuffle']\n",
    "local_lr_s = [1 / 2**(i - 2) for i in range(1,6)] \n",
    "global_lr_s = [1.]\n",
    "seed_s = [123, 124, 125]\n",
    "\n",
    "run_id = 'small_pp_re'\n",
    "dataset = 'synth_1.0_1.0' # 'synth_0.0_0.0'\n",
    "model = 'logreg'\n",
    "loc_lr_type = 'static'\n",
    "weight_decay = 0.\n",
    "server_momentum = 0.\n",
    "\n",
    "batch_size = 32\n",
    "num_rounds = 100\n",
    "\n",
    "client_dist = 'uniform_10'\n",
    "local_epochs = 'unif_2_5'\n",
    "time = 15 # in minutes\n",
    "\n"
   ],
   "outputs": [],
   "metadata": {}
  },
  {
   "cell_type": "markdown",
   "source": [
    "### Full Participation"
   ],
   "metadata": {}
  },
  {
   "cell_type": "code",
   "execution_count": 11,
   "source": [
    "algorithm_s = ['fedavg  --sum-one', 'fednova  --sum-one', 'fedshuffle  --sum-one', 'fedshuffle']\n",
    "local_lr_s = [1 / 2**(i - 2) for i in range(1,6)] \n",
    "global_lr_s = [1.]\n",
    "seed_s = [123, 124, 125]\n",
    "\n",
    "run_id = 'small_fp'\n",
    "dataset = 'synth_1.0_1.0' # 'synth_0.0_0.0'\n",
    "model = 'logreg'\n",
    "loc_lr_type = 'static'\n",
    "weight_decay = 0.\n",
    "server_momentum = 0.\n",
    "\n",
    "\n",
    "batch_size = 32\n",
    "num_rounds = 100\n",
    "\n",
    "client_dist = 'uniform_30'\n",
    "local_epochs = 'static_2'\n",
    "time = 30 # in minutes"
   ],
   "outputs": [],
   "metadata": {}
  },
  {
   "cell_type": "markdown",
   "source": [
    "## FEMNIST"
   ],
   "metadata": {}
  },
  {
   "cell_type": "code",
   "execution_count": 35,
   "source": [
    "algorithm_s = ['fedavg  --sum-one', 'fednova  --sum-one',\n",
    "     'fedshuffle  --sum-one', 'fedshuffle', 'fedshuffle --clip-grad', 'fedshuffle  --sum-one  --clip-grad']\n",
    "local_lr_s = [0.1, 0.01, 0.001] \n",
    "global_lr_s = [1.]\n",
    "seed_s = [123, 124, 125]\n",
    "\n",
    "run_id = 'nn_is' # 'nn_is', 'nn_mom', 'nn_is_mom'\n",
    "dataset = 'femnist' \n",
    "model = 'femnist'\n",
    "loc_lr_type = 'cifar_1'\n",
    "weight_decay = 1e-4\n",
    "server_momentum = 0. # 0.9\n",
    "\n",
    "\n",
    "batch_size = 32\n",
    "num_rounds = 1000\n",
    "\n",
    "client_dist = 'data_16' # data_16\n",
    "local_epochs = 'static_2'\n",
    "time = 900 # in minutes"
   ],
   "outputs": [],
   "metadata": {}
  },
  {
   "cell_type": "markdown",
   "source": [
    "## Shakespeare"
   ],
   "metadata": {}
  },
  {
   "cell_type": "code",
   "execution_count": 30,
   "source": [
    "algorithm_s = ['fedavg  --sum-one', 'fednova  --sum-one',\n",
    "     'fedshuffle  --sum-one', 'fedshuffle']\n",
    "# algorithm_s = ['fedavg  --sum-one']\n",
    "local_lr_s = [0.1] \n",
    "global_lr_s = [1.]\n",
    "seed_s = [123, 124, 125]\n",
    "\n",
    "run_id = 'nn_train_mom'  # 'nn_is', 'nn_mom', 'nn_is_mom'\n",
    "dataset = 'shakespeare' \n",
    "model = 'rnn'\n",
    "loc_lr_type = 'cifar_1'\n",
    "weight_decay = 1e-4\n",
    "server_momentum = 0.9 # 0.9\n",
    "\n",
    "\n",
    "batch_size = 32\n",
    "num_rounds = 1000\n",
    "\n",
    "client_dist = 'uniform_16' # data_16\n",
    "local_epochs = 'static_3'\n",
    "time = 900 # in minutes"
   ],
   "outputs": [],
   "metadata": {}
  },
  {
   "cell_type": "markdown",
   "source": [
    "## CIFAR 10/100"
   ],
   "metadata": {}
  },
  {
   "cell_type": "code",
   "execution_count": 36,
   "source": [
    "algorithm_s = ['fedavg  --sum-one', 'fednova  --sum-one',\n",
    "    'fedshuffle', 'fedshuffle --clip-grad']\n",
    "\n",
    "# algorithm_s = ['fedavg  --sum-one']\n",
    "\n",
    "local_lr_s = [0.1, 0.01] \n",
    "global_lr_s = [1.]\n",
    "seed_s = [123, 124, 125]\n",
    "\n",
    "run_id = 'nn_train_mom'  # 'nn_is', 'nn_mom', 'nn_is_mom'\n",
    "dataset = 'cifar100_fl' # 'cifar10_fl\n",
    "model = 'resnet18'\n",
    "loc_lr_type = 'cifar_1'\n",
    "weight_decay = 1e-4\n",
    "server_momentum = 0.9 # 0.9\n",
    "\n",
    "\n",
    "batch_size = 32\n",
    "num_rounds = 1000 \n",
    "\n",
    "client_dist = 'uniform_16' # data_16\n",
    "local_epochs =  'static_11' # 'unif_2_5'\n",
    "time = 3000 # in minutes"
   ],
   "outputs": [],
   "metadata": {}
  },
  {
   "cell_type": "code",
   "execution_count": 2,
   "source": [
    "\n"
   ],
   "outputs": [
    {
     "output_type": "execute_result",
     "data": {
      "text/plain": [
       "66.66666666666667"
      ]
     },
     "metadata": {},
     "execution_count": 2
    }
   ],
   "metadata": {}
  },
  {
   "cell_type": "code",
   "execution_count": 21,
   "source": [
    "num_workers = 2  # 0"
   ],
   "outputs": [],
   "metadata": {}
  },
  {
   "cell_type": "code",
   "execution_count": 22,
   "source": [
    "cluster = True\n",
    "cluster_part = 'learnlab'"
   ],
   "outputs": [],
   "metadata": {}
  },
  {
   "cell_type": "code",
   "execution_count": 37,
   "source": [
    "import os\n",
    "from itertools import product\n",
    "\n",
    "os.makedirs(\"../run_scripts/\", exist_ok=True)\n",
    "\n",
    "f = open(f\"../run_scripts/{run_id}_{dataset}.sh\", \"w\")\n",
    "\n",
    "for algorithm, local_lr, global_lr, seed in product(algorithm_s, local_lr_s, global_lr_s, seed_s):\n",
    "    run_script = f\"python run.py --run-id {run_id} --rounds {num_rounds} -b {batch_size} -li {local_epochs} --dataset {dataset}\" \\\n",
    "                 f\" --model {model}  --deterministic --client-distribution {client_dist} --manual-seed {seed}\" \\\n",
    "                 f\" --global-lr {global_lr} --local-lr {local_lr} --fl-algorithm {algorithm} --local-lr-type {loc_lr_type}\" \\\n",
    "                 f\" --server-momentum {server_momentum} --local-weight-decay {weight_decay} \" \\\n",
    "                 f\" --num-workers {num_workers}\" # \\\n",
    "                #  f\" --run-local-steps\"\n",
    "\n",
    "    cluster_script = f\" --cluster --cluster-partition {cluster_part} --cluster-time-limit {time}\" if cluster else \"\"\n",
    "\n",
    "    f.write(run_script + cluster_script + \"\\n\")\n",
    "\n",
    "f.close()"
   ],
   "outputs": [],
   "metadata": {}
  }
 ],
 "metadata": {
  "orig_nbformat": 4,
  "language_info": {
   "name": "python",
   "version": "3.9.7",
   "mimetype": "text/x-python",
   "codemirror_mode": {
    "name": "ipython",
    "version": 3
   },
   "pygments_lexer": "ipython3",
   "nbconvert_exporter": "python",
   "file_extension": ".py"
  },
  "kernelspec": {
   "name": "python3",
   "display_name": "Python 3.9.7 64-bit ('fl': conda)"
  },
  "interpreter": {
   "hash": "30004739fac8086ad444424a2092e8925290664c5b506381adcff8440e44f584"
  }
 },
 "nbformat": 4,
 "nbformat_minor": 2
}